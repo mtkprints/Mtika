{
 "cells": [
  {
   "cell_type": "markdown",
   "id": "e5339cdc",
   "metadata": {},
   "source": [
    "Data Science Tools and Ecosystem "
   ]
  },
  {
   "cell_type": "markdown",
   "id": "e8729e29",
   "metadata": {},
   "source": [
    "In this notebook, Data Science Tools and Ecosystem are summarized."
   ]
  },
  {
   "cell_type": "markdown",
   "id": "30d9b169",
   "metadata": {},
   "source": [
    "Objectives:\n",
    "1. Some of the popular languages that data scientists use\n",
    "2. Some of the commonly used libraries used by data scientists\n",
    "3. Data science tools\n",
    "4. examples of evaluating arithmetic expressions in python\n"
   ]
  },
  {
   "cell_type": "markdown",
   "id": "67fa1758",
   "metadata": {},
   "source": [
    "Some of the popular languages that Data Scientists use are:\n",
    "1. Python\n",
    "2. R\n",
    "3. SQL"
   ]
  },
  {
   "cell_type": "markdown",
   "id": "f61fef6b",
   "metadata": {},
   "source": [
    "Some of the commonly used libraries used by Data Scientists include:\n",
    "1. Sckit learn\n",
    "2. Tensor Flow\n",
    "3. Num Py\n",
    "4. Pandas"
   ]
  },
  {
   "cell_type": "markdown",
   "id": "f552e3b7",
   "metadata": {},
   "source": [
    "|Data Science Tools|\n",
    "|------------------|\n",
    "|Watson studio|\n",
    "|IBM Data Base2|\n",
    "|Azure|"
   ]
  },
  {
   "cell_type": "markdown",
   "id": "905619b1",
   "metadata": {},
   "source": [
    "Below are a few examples of evaluating arithmetic expressions in Python"
   ]
  },
  {
   "cell_type": "code",
   "execution_count": 3,
   "id": "ed12b0cb",
   "metadata": {},
   "outputs": [
    {
     "data": {
      "text/plain": [
       "17"
      ]
     },
     "execution_count": 3,
     "metadata": {},
     "output_type": "execute_result"
    }
   ],
   "source": [
    "#This a simple arithmetic expression to mutiply then add integers\n",
    "(3*4)+5"
   ]
  },
  {
   "cell_type": "code",
   "execution_count": 7,
   "id": "ec70e23c",
   "metadata": {},
   "outputs": [
    {
     "data": {
      "text/plain": [
       "3.3333333333333335"
      ]
     },
     "execution_count": 7,
     "metadata": {},
     "output_type": "execute_result"
    }
   ],
   "source": [
    "#This will convert 200 minutes to hours by diving by 60\n",
    "200/60"
   ]
  },
  {
   "cell_type": "markdown",
   "id": "00288e6d",
   "metadata": {},
   "source": [
    "Author\n",
    "  Shalom Mtika"
   ]
  },
  {
   "cell_type": "code",
   "execution_count": null,
   "id": "e6720757",
   "metadata": {},
   "outputs": [],
   "source": []
  }
 ],
 "metadata": {
  "kernelspec": {
   "display_name": "Python 3 (ipykernel)",
   "language": "python",
   "name": "python3"
  },
  "language_info": {
   "codemirror_mode": {
    "name": "ipython",
    "version": 3
   },
   "file_extension": ".py",
   "mimetype": "text/x-python",
   "name": "python",
   "nbconvert_exporter": "python",
   "pygments_lexer": "ipython3",
   "version": "3.10.12"
  }
 },
 "nbformat": 4,
 "nbformat_minor": 5
}
